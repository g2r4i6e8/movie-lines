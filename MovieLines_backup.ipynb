{
 "cells": [
  {
   "cell_type": "markdown",
   "metadata": {
    "cellId": "fmlv88tq2qn5u7ow3greng"
   },
   "source": [
    "<b><font color=\"black\" size=\"+3\">Цветовые палитры видео</font></b>\n",
    "<p>Программа раскладывает кадры видео на последовательность цветных полос</p>\n",
    "<b><font color=\"black\" size=\"+2\">Сделано под впечатлением от :</font></b>\n",
    "\n",
    "**Visualizations of movies in one figure**: [Пост на Reddit](https://www.reddit.com/r/dataisbeautiful/comments/glf9np/oc_visualizations_of_more_movies_in_one_figure/)\n",
    "\n",
    "\n",
    "**Код и колаб:** [@akolomatskiy](https://t.me/akolomatskiy)"
   ]
  },
  {
   "cell_type": "code",
   "execution_count": null,
   "metadata": {
    "cellId": "t3ic9xoflj5j2cdvij96k"
   },
   "outputs": [],
   "source": [
    "# import libraries\n",
    "import os\n",
    "import glob\n",
    "import logging\n",
    "import yadisk\n",
    "from datetime import datetime\n",
    "import time\n",
    "from funcadd import save_data, load_data, update_progress\n",
    "from processing import plot_lines, plot_donut, plot_interpolated_donut, plot_waves, gen_smooth_lines, gen_interpolated_lines\n",
    "from postergenerator import create_poster"
   ]
  },
  {
   "cell_type": "code",
   "execution_count": null,
   "metadata": {
    "cellId": "m35kjgc6owo4v5soy73rau"
   },
   "outputs": [],
   "source": [
    "# enable logging\n",
    "logfile = 'logs/{}.log'.format(datetime.now().strftime(\"%Y-%m-%dT%H:%M\"))\n",
    "logging.basicConfig(filename=logfile, filemode=\"w\",\n",
    "    format='%(asctime)s - %(name)s - %(levelname)s - %(message)s', level=logging.INFO)\n",
    "\n",
    "logger = logging.getLogger(__name__)"
   ]
  },
  {
   "cell_type": "code",
   "execution_count": null,
   "metadata": {
    "cellId": "33gy15c7sy9roryqrek5d"
   },
   "outputs": [],
   "source": [
    "# connecting to Ya.Disk\n",
    "logger.info('Connecting to YaDisk')\n",
    "try:\n",
    "    disk = yadisk.YaDisk(token = os.environ['YaDiskToken'])\n",
    "    logger.info('Connected to YaDisk successfully')\n",
    "except Exception as e:\n",
    "    logger.error('Connecting to YaDisk failed with error %s. Quitting...', e)"
   ]
  },
  {
   "cell_type": "code",
   "execution_count": null,
   "metadata": {
    "cellId": "7fm1ybym1duohe7gq6fu4"
   },
   "outputs": [],
   "source": [
    "# getting unprocessed files from Ya.Disk\n",
    "logger.info('Getting unprocessed files from Ya.Disk')\n",
    "try:\n",
    "    del_datasphere_variables('ls')\n",
    "except:\n",
    "    pass\n",
    "\n",
    "try:\n",
    "    with open('progress.txt', 'r') as file:\n",
    "        progress = [s.strip() for s in file.readlines()]\n",
    "    ls = list(disk.listdir('MovieLines/raw'))\n",
    "    raw_files = [film['path'].replace('disk:', '') for film in ls]\n",
    "    files = sorted(list(set(raw_files) - set(progress)))\n",
    "    print('\\n'.join(files))\n",
    "    logger.info('Got %s files to process from Ya.Disk', len(files))\n",
    "except Exception as e:\n",
    "    logger.error('Got error %s while getting files. Quitting...', e)"
   ]
  },
  {
   "cell_type": "code",
   "execution_count": null,
   "metadata": {
    "cellId": "5ou8yxw8w9mgbkoex5gf4"
   },
   "outputs": [],
   "source": [
    "# ONLY FOR TESTS\n",
    "# files = ['test/TheShawshankRedemption_326.mkv']\n",
    "# files"
   ]
  },
  {
   "cell_type": "code",
   "execution_count": null,
   "metadata": {
    "cellId": "lcubfpxxa292m17lkekf7"
   },
   "outputs": [],
   "source": [
    "# setting up parameters\n",
    "# width, height, pix_per_line = 4096, 2048, 1\n",
    "createSmoothDonutPoster = True\n",
    "createInterpolatedDonutPoster = True\n",
    "createSmoothWavesPoster = False"
   ]
  },
  {
   "cell_type": "code",
   "execution_count": null,
   "metadata": {
    "cellId": "v7eivhtixgnuw456og8c",
    "execution_id": "ebee0113-e674-44e3-8c14-439fabd737d0"
   },
   "outputs": [],
   "source": [
    "# main loop\n",
    "for video_file in files:\n",
    "    start_time = time.time()\n",
    "    name = video_file.split('.')[0].split('/')[-1]\n",
    "    os.makedirs('output/{}'.format(name), exist_ok=True)\n",
    "    output_folder = 'output/{}'.format(name)\n",
    "    logger.info('Processing %s started', name)\n",
    "   \n",
    "    # downloading file from YaDisk\n",
    "    logger.info('Downloading %s started', name)\n",
    "    video_path = os.path.join(output_folder, video_file.split('/')[-1])\n",
    "    if not os.path.isfile(video_path):\n",
    "        try:\n",
    "            disk.download(video_file, video_path)\n",
    "            logger.info('Downloading %s is complete', name)\n",
    "        except Exception as e:\n",
    "            logger.error('Downloading raised error %s. Skipping %s', e, name)\n",
    "            break\n",
    "        \n",
    "    # ONLY FOR TESTS\n",
    "#     video_path = video_file\n",
    "    \n",
    "    # generating smooth lines\n",
    "    logger.info('Getting smooth lines data')\n",
    "    line_type = 'smoothLines' \n",
    "    sl_filename = '{}/{}_{}'.format(output_folder, name, line_type)\n",
    "    try:\n",
    "        smooth_lines = load_data(sl_filename)\n",
    "        logger.info('Smooth lines data loaded')\n",
    "    except FileNotFoundError:\n",
    "        logger.info('No saved data. Generating smooth lines data. It may take some time...')\n",
    "        try:\n",
    "            smooth_lines = gen_smooth_lines(video_path)\n",
    "            save_data(smooth_lines, sl_filename)\n",
    "            logger.info('Smooth lines data generated successfully')\n",
    "        except Exception as e:\n",
    "            logger.warning('Generating smooth lines data raised error %s. Smooth lines data was not generated', e)\n",
    "    \n",
    "    # generating interpolated lines\n",
    "    logger.info('Getting interpolated lines data')\n",
    "    line_type = 'interpolatedLines'\n",
    "    il_filename = '{}/{}_{}'.format(output_folder, name, line_type)\n",
    "    try:\n",
    "        interpolated_lines = load_data(il_filename)\n",
    "        logger.info('Interpolated lines data loaded')\n",
    "    except FileNotFoundError:\n",
    "        logger.info('No saved data. Generating interpolated lines data. It may take some time...')\n",
    "        try:\n",
    "            interpolated_lines = gen_interpolated_lines(video_path)\n",
    "            save_data(interpolated_lines, il_filename)\n",
    "            logger.info('Interpolated lines data generated successfully')\n",
    "        except Exception as e:\n",
    "            logger.warning('Generating interpolated lines data raised error %s. Interpolated lines data was not generated', e)\n",
    "    \n",
    "    # generating donut data from smooth lines\n",
    "    logger.info('Getting smooth donut data')\n",
    "    line_type = 'smoothDonut'\n",
    "    dsl_filename = '{}/{}_{}'.format(output_folder, name, line_type)\n",
    "    try:\n",
    "        pielines = smooth_lines[0]\n",
    "    except FileNotFoundError:\n",
    "        logger.warning('Getting smooth donut data raised error %s. Smooth donut data was not generated', e)\n",
    "    \n",
    "    if createSmoothDonutPoster:\n",
    "        try:\n",
    "            donut_path = dsl_filename + '.png'\n",
    "            plot_donut(pielines, donut_path, background_style='beige')\n",
    "            stripe_path = sl_filename + '.png'\n",
    "            plot_lines(smooth_lines, stripe_path)\n",
    "            output_path = dsl_filename + '_rendered_donut.png'\n",
    "            create_poster(output_path, name, form='donut', donut_path=donut_path, stripe_path=stripe_path)\n",
    "        except Exception as e:\n",
    "            logger.error('Creating smooth donut data raised error %s. Smooth donut was not generated', e)\n",
    "        \n",
    "    if createInterpolatedDonutPoster:\n",
    "        try:\n",
    "            line_type = 'interpolatedDonut'\n",
    "            dil_filename = '{}/{}_{}'.format(output_folder, name, line_type)\n",
    "            interpolated_image_path = il_filename + '.png'\n",
    "            plot_lines(interpolated_lines, interpolated_image_path)\n",
    "            interdonut_path = dil_filename + '.png'\n",
    "            plot_interpolated_donut(interpolated_image_path, interdonut_path, background_style='beige')\n",
    "            output_path = dil_filename + '_rendered_interdonut.png'\n",
    "            create_poster(output_path, name, form='donut', donut_path=interdonut_path, stripe_path=interpolated_image_path)\n",
    "        except Exception as e:\n",
    "            logger.error('Creating interpolated donut data raised error %s. Interpolated donut was not generated', e)\n",
    "        \n",
    "    # generating waves data from smooth lines\n",
    "#     logger.info('Getting smooth wave data')\n",
    "#     line_type = 'waveSmoothLines'\n",
    "#     wsl_filename = '{}/{}_{}_{}x{}x{}'.format(output_folder, name, line_type, width, height, pix_per_line)\n",
    "#     try:\n",
    "#         wavelines = load_data(wsl_filename)\n",
    "#         logger.info('Smooth wave data loaded')\n",
    "#     except FileNotFoundError:\n",
    "#         logger.info('No saved data. Generating smooth wave data')\n",
    "#         try:\n",
    "#             wavelines = smooth_lines[0]\n",
    "#             save_data(pielines, wsl_filename)\n",
    "#             logger.info('Smooth wave data generated successfully')\n",
    "#         except Exception as e:\n",
    "#             logger.warn('Generating smooth wave data raised error %s. Smooth wave data was not generated', e)\n",
    "    \n",
    "    logger.info('Posters creation for %s finished in %s seconds', name, round(time.time() - start_time, 2))\n",
    "    \n",
    "    logger.info('Uploading posters to Ya.Disk')\n",
    "    try:\n",
    "        posters = glob.glob('{}/*rendered*.png'.format(output_folder))\n",
    "        for poster in posters:\n",
    "            disk.upload(poster, 'MovieLines/output/images/{}'.format(poster.split('/')[-1]))\n",
    "        logger.info('Uploading diagrams to Ya.Disk finished')\n",
    "    except Exception as e:\n",
    "        logger.error('Failed to upload posters to Ya.Disk: ', e)\n",
    "                \n",
    "#     logger.info('Uploading lines to Ya.Disk')\n",
    "#     try: \n",
    "#         prepared_data = glob.glob('{}/*.pkl'.format(output_folder))\n",
    "#         for lines in prepared_data:\n",
    "#             disk.upload(lines, 'MovieLines/output/lines/{}'.format(lines.split('/')[-1]))\n",
    "#             logger.info('Uploading lines to Ya.Disk finished')\n",
    "#     except Exception as e:\n",
    "#         logger.error('Failed to upload lines to Ya.Disk: ', e)\n",
    "    \n",
    "    logger.info('Deleting raw video file and images to save space')\n",
    "    try:\n",
    "        images = glob.glob('{}/.png'.format(output_folder))\n",
    "        for image in images:\n",
    "            os.remove(image)\n",
    "        logger.info('Images deleted successfully')\n",
    "        os.remove(video_path)\n",
    "        logger.info('Video file deleted successfully')\n",
    "    except Exception as e:\n",
    "        logger.error('Failed to delete video file: ', e)\n",
    "    \n",
    "    logger.info('Overall processing for %s finished in %s seconds', name, round(time.time() - start_time, 2))\n",
    "    \n",
    "    update_progress(video_file)"
   ]
  }
 ],
 "metadata": {
  "kernelspec": {
   "display_name": "Python 3",
   "language": "python",
   "name": "python3"
  },
  "language_info": {
   "codemirror_mode": {
    "name": "ipython",
    "version": 3
   },
   "file_extension": ".py",
   "mimetype": "text/x-python",
   "name": "python",
   "nbconvert_exporter": "python",
   "pygments_lexer": "ipython3",
   "version": "3.7.8"
  },
  "notebookId": "197608e6-f0ba-4ea7-be0e-bed8a91d44d5",
  "ydsNotebookPath": "MovieLines (1).ipynb"
 },
 "nbformat": 4,
 "nbformat_minor": 4
}
